{
 "cells": [
  {
   "cell_type": "code",
   "execution_count": 1,
   "metadata": {},
   "outputs": [],
   "source": [
    "import requests\n",
    "import pandas as pd\n",
    "import json"
   ]
  },
  {
   "cell_type": "code",
   "execution_count": 2,
   "metadata": {},
   "outputs": [],
   "source": [
    "import requests\n",
    "\n",
    "# Your API key (replace with your actual API key)\n",
    "api_key = \"\"\n",
    "\n",
    "# City for which you want the weather\n",
    "city = \"Asuncion\"\n",
    "\n",
    "# URL for the OpenWeather API (current weather data)\n",
    "url = f\"http://api.openweathermap.org/data/2.5/weather?q={city}&appid={api_key}&units=metric\"\n",
    "\n",
    "# Make a request to the OpenWeather API\n",
    "response = requests.get(url)\n",
    "\n"
   ]
  },
  {
   "cell_type": "code",
   "execution_count": 3,
   "metadata": {},
   "outputs": [
    {
     "name": "stdout",
     "output_type": "stream",
     "text": [
      "City: Asuncion\n",
      "Temperature: 18.48°C\n",
      "Weather Description: light intensity drizzle\n",
      "Wind Speed: 2.24 m/s\n"
     ]
    }
   ],
   "source": [
    "# Check if the request was successful\n",
    "if response.status_code == 200:\n",
    "    data = response.json()\n",
    "    \n",
    "    # Extracting useful information\n",
    "    temperature = data['main']['temp']\n",
    "    weather_description = data['weather'][0]['description']\n",
    "    wind_speed = data['wind']['speed']\n",
    "    \n",
    "    print(f\"City: {city}\")\n",
    "    print(f\"Temperature: {temperature}°C\")\n",
    "    print(f\"Weather Description: {weather_description}\")\n",
    "    print(f\"Wind Speed: {wind_speed} m/s\")\n",
    "else:\n",
    "    print(f\"Failed to retrieve data. HTTP Status code: {response.status_code}\")\n"
   ]
  },
  {
   "cell_type": "code",
   "execution_count": 12,
   "metadata": {},
   "outputs": [
    {
     "name": "stdout",
     "output_type": "stream",
     "text": [
      "[{'id': 300, 'main': 'Drizzle', 'description': 'light intensity drizzle', 'icon': '09d'}]\n"
     ]
    }
   ],
   "source": [
    "print(data['weather'])\n"
   ]
  }
 ],
 "metadata": {
  "kernelspec": {
   "display_name": "Python 3",
   "language": "python",
   "name": "python3"
  },
  "language_info": {
   "codemirror_mode": {
    "name": "ipython",
    "version": 3
   },
   "file_extension": ".py",
   "mimetype": "text/x-python",
   "name": "python",
   "nbconvert_exporter": "python",
   "pygments_lexer": "ipython3",
   "version": "3.12.7"
  }
 },
 "nbformat": 4,
 "nbformat_minor": 2
}
